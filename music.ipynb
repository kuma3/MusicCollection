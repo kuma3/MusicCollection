{
 "cells": [
  {
   "cell_type": "markdown",
   "metadata": {},
   "source": [
    "### 各種import"
   ]
  },
  {
   "cell_type": "code",
   "execution_count": 3,
   "metadata": {},
   "outputs": [],
   "source": [
    "import matplotlib as mpl\n",
    "import matplotlib.pyplot as plt\n",
    "import pandas as pd\n",
    "from matplotlib import rcParams\n",
    "\n",
    "rcParams['font.family'] = 'sans-serif'\n",
    "rcParams['font.sans-serif'] = ['Hiragino Maru Gothic Pro', 'Yu Gothic', 'Meirio', 'Takao', 'IPAexGothic', 'IPAPGothic', 'VL PGothic', 'Noto Sans CJK JP']"
   ]
  },
  {
   "cell_type": "markdown",
   "metadata": {},
   "source": [
    "### 楽曲データを読み込む\n",
    "- あらかじめ取り出しておいた楽曲データを`tracks.json`として保存しておき，データフレームとして読み込む"
   ]
  },
  {
   "cell_type": "code",
   "execution_count": 4,
   "metadata": {},
   "outputs": [
    {
     "data": {
      "text/html": [
       "<div>\n",
       "<style scoped>\n",
       "    .dataframe tbody tr th:only-of-type {\n",
       "        vertical-align: middle;\n",
       "    }\n",
       "\n",
       "    .dataframe tbody tr th {\n",
       "        vertical-align: top;\n",
       "    }\n",
       "\n",
       "    .dataframe thead th {\n",
       "        text-align: right;\n",
       "    }\n",
       "</style>\n",
       "<table border=\"1\" class=\"dataframe\">\n",
       "  <thead>\n",
       "    <tr style=\"text-align: right;\">\n",
       "      <th></th>\n",
       "      <th>class</th>\n",
       "      <th>index</th>\n",
       "      <th>name</th>\n",
       "      <th>persistentID</th>\n",
       "      <th>databaseID</th>\n",
       "      <th>dateAdded</th>\n",
       "      <th>time</th>\n",
       "      <th>duration</th>\n",
       "      <th>artist</th>\n",
       "      <th>albumArtist</th>\n",
       "      <th>...</th>\n",
       "      <th>albumDisliked</th>\n",
       "      <th>cloudStatus</th>\n",
       "      <th>work</th>\n",
       "      <th>movement</th>\n",
       "      <th>movementNumber</th>\n",
       "      <th>movementCount</th>\n",
       "      <th>location</th>\n",
       "      <th>purchaserName</th>\n",
       "      <th>purchaserAppleID</th>\n",
       "      <th>releaseDate</th>\n",
       "    </tr>\n",
       "    <tr>\n",
       "      <th>id</th>\n",
       "      <th></th>\n",
       "      <th></th>\n",
       "      <th></th>\n",
       "      <th></th>\n",
       "      <th></th>\n",
       "      <th></th>\n",
       "      <th></th>\n",
       "      <th></th>\n",
       "      <th></th>\n",
       "      <th></th>\n",
       "      <th></th>\n",
       "      <th></th>\n",
       "      <th></th>\n",
       "      <th></th>\n",
       "      <th></th>\n",
       "      <th></th>\n",
       "      <th></th>\n",
       "      <th></th>\n",
       "      <th></th>\n",
       "      <th></th>\n",
       "      <th></th>\n",
       "    </tr>\n",
       "  </thead>\n",
       "  <tbody>\n",
       "    <tr>\n",
       "      <th>31856</th>\n",
       "      <td>sharedTrack</td>\n",
       "      <td>4166</td>\n",
       "      <td>Still Love You</td>\n",
       "      <td>6C14343274F7FCA5</td>\n",
       "      <td>12131</td>\n",
       "      <td>2016-09-08T09:41:43.000Z</td>\n",
       "      <td>4:14</td>\n",
       "      <td>254.667007</td>\n",
       "      <td>Shiggy Jr.</td>\n",
       "      <td>Shiggy Jr.</td>\n",
       "      <td>...</td>\n",
       "      <td>False</td>\n",
       "      <td>subscription</td>\n",
       "      <td></td>\n",
       "      <td></td>\n",
       "      <td>0</td>\n",
       "      <td>0</td>\n",
       "      <td>NaN</td>\n",
       "      <td>NaN</td>\n",
       "      <td>NaN</td>\n",
       "      <td>2016-05-20T12:00:00.000Z</td>\n",
       "    </tr>\n",
       "    <tr>\n",
       "      <th>32878</th>\n",
       "      <td>sharedTrack</td>\n",
       "      <td>2246</td>\n",
       "      <td>からだ</td>\n",
       "      <td>2FF9DD6180EE39B9</td>\n",
       "      <td>15747</td>\n",
       "      <td>2019-01-09T11:33:58.000Z</td>\n",
       "      <td>3:01</td>\n",
       "      <td>181.067001</td>\n",
       "      <td>岡崎体育</td>\n",
       "      <td>岡崎体育</td>\n",
       "      <td>...</td>\n",
       "      <td>False</td>\n",
       "      <td>subscription</td>\n",
       "      <td></td>\n",
       "      <td></td>\n",
       "      <td>0</td>\n",
       "      <td>0</td>\n",
       "      <td>NaN</td>\n",
       "      <td>NaN</td>\n",
       "      <td>NaN</td>\n",
       "      <td>2019-01-09T12:00:00.000Z</td>\n",
       "    </tr>\n",
       "    <tr>\n",
       "      <th>29207</th>\n",
       "      <td>fileTrack</td>\n",
       "      <td>4453</td>\n",
       "      <td>残り風</td>\n",
       "      <td>85BD6571F76E2CE6</td>\n",
       "      <td>5131</td>\n",
       "      <td>2014-06-18T14:00:21.000Z</td>\n",
       "      <td>5:15</td>\n",
       "      <td>315.950989</td>\n",
       "      <td>いきものがかり</td>\n",
       "      <td>いきものがかり</td>\n",
       "      <td>...</td>\n",
       "      <td>False</td>\n",
       "      <td>uploaded</td>\n",
       "      <td></td>\n",
       "      <td></td>\n",
       "      <td>0</td>\n",
       "      <td>0</td>\n",
       "      <td>NaN</td>\n",
       "      <td>NaN</td>\n",
       "      <td>NaN</td>\n",
       "      <td>NaN</td>\n",
       "    </tr>\n",
       "    <tr>\n",
       "      <th>33306</th>\n",
       "      <td>sharedTrack</td>\n",
       "      <td>3760</td>\n",
       "      <td>Like the wind</td>\n",
       "      <td>953DF012D19CD99D</td>\n",
       "      <td>18013</td>\n",
       "      <td>2019-07-21T14:44:34.000Z</td>\n",
       "      <td>4:02</td>\n",
       "      <td>242.102005</td>\n",
       "      <td>Key</td>\n",
       "      <td>Key</td>\n",
       "      <td>...</td>\n",
       "      <td>False</td>\n",
       "      <td>uploaded</td>\n",
       "      <td></td>\n",
       "      <td></td>\n",
       "      <td>0</td>\n",
       "      <td>0</td>\n",
       "      <td>NaN</td>\n",
       "      <td>NaN</td>\n",
       "      <td>NaN</td>\n",
       "      <td>NaN</td>\n",
       "    </tr>\n",
       "    <tr>\n",
       "      <th>30298</th>\n",
       "      <td>fileTrack</td>\n",
       "      <td>1243</td>\n",
       "      <td>恋のエチュード</td>\n",
       "      <td>D485413FD94868B1</td>\n",
       "      <td>8397</td>\n",
       "      <td>2015-04-27T00:53:58.000Z</td>\n",
       "      <td>3:32</td>\n",
       "      <td>212.865997</td>\n",
       "      <td>PUFFY</td>\n",
       "      <td>VARIOUS ARTISTS</td>\n",
       "      <td>...</td>\n",
       "      <td>False</td>\n",
       "      <td>uploaded</td>\n",
       "      <td></td>\n",
       "      <td></td>\n",
       "      <td>0</td>\n",
       "      <td>0</td>\n",
       "      <td>{}</td>\n",
       "      <td>NaN</td>\n",
       "      <td>NaN</td>\n",
       "      <td>NaN</td>\n",
       "    </tr>\n",
       "  </tbody>\n",
       "</table>\n",
       "<p>5 rows × 64 columns</p>\n",
       "</div>"
      ],
      "text/plain": [
       "             class  index            name      persistentID  databaseID  \\\n",
       "id                                                                        \n",
       "31856  sharedTrack   4166  Still Love You  6C14343274F7FCA5       12131   \n",
       "32878  sharedTrack   2246             からだ  2FF9DD6180EE39B9       15747   \n",
       "29207    fileTrack   4453             残り風  85BD6571F76E2CE6        5131   \n",
       "33306  sharedTrack   3760   Like the wind  953DF012D19CD99D       18013   \n",
       "30298    fileTrack   1243         恋のエチュード  D485413FD94868B1        8397   \n",
       "\n",
       "                      dateAdded  time    duration      artist  \\\n",
       "id                                                              \n",
       "31856  2016-09-08T09:41:43.000Z  4:14  254.667007  Shiggy Jr.   \n",
       "32878  2019-01-09T11:33:58.000Z  3:01  181.067001        岡崎体育   \n",
       "29207  2014-06-18T14:00:21.000Z  5:15  315.950989     いきものがかり   \n",
       "33306  2019-07-21T14:44:34.000Z  4:02  242.102005         Key   \n",
       "30298  2015-04-27T00:53:58.000Z  3:32  212.865997       PUFFY   \n",
       "\n",
       "           albumArtist  ... albumDisliked   cloudStatus work  movement  \\\n",
       "id                      ...                                              \n",
       "31856       Shiggy Jr.  ...         False  subscription                  \n",
       "32878             岡崎体育  ...         False  subscription                  \n",
       "29207          いきものがかり  ...         False      uploaded                  \n",
       "33306              Key  ...         False      uploaded                  \n",
       "30298  VARIOUS ARTISTS  ...         False      uploaded                  \n",
       "\n",
       "       movementNumber  movementCount  location  purchaserName  \\\n",
       "id                                                              \n",
       "31856               0              0       NaN            NaN   \n",
       "32878               0              0       NaN            NaN   \n",
       "29207               0              0       NaN            NaN   \n",
       "33306               0              0       NaN            NaN   \n",
       "30298               0              0        {}            NaN   \n",
       "\n",
       "       purchaserAppleID               releaseDate  \n",
       "id                                                 \n",
       "31856               NaN  2016-05-20T12:00:00.000Z  \n",
       "32878               NaN  2019-01-09T12:00:00.000Z  \n",
       "29207               NaN                       NaN  \n",
       "33306               NaN                       NaN  \n",
       "30298               NaN                       NaN  \n",
       "\n",
       "[5 rows x 64 columns]"
      ]
     },
     "execution_count": 4,
     "metadata": {},
     "output_type": "execute_result"
    }
   ],
   "source": [
    "with open('tracks.json', 'r') as f:\n",
    "    df = pd.read_json(f).set_index('id')\n",
    "\n",
    "df.sample(5)"
   ]
  },
  {
   "cell_type": "markdown",
   "metadata": {},
   "source": [
    "### 楽曲ごとにランキング\n",
    "- 楽曲名でグルーピングを行い再生回数を集計"
   ]
  },
  {
   "cell_type": "code",
   "execution_count": 61,
   "metadata": {},
   "outputs": [
    {
     "data": {
      "text/html": [
       "<div>\n",
       "<style scoped>\n",
       "    .dataframe tbody tr th:only-of-type {\n",
       "        vertical-align: middle;\n",
       "    }\n",
       "\n",
       "    .dataframe tbody tr th {\n",
       "        vertical-align: top;\n",
       "    }\n",
       "\n",
       "    .dataframe thead th {\n",
       "        text-align: right;\n",
       "    }\n",
       "</style>\n",
       "<table border=\"1\" class=\"dataframe\">\n",
       "  <thead>\n",
       "    <tr style=\"text-align: right;\">\n",
       "      <th></th>\n",
       "      <th>name</th>\n",
       "      <th>artist</th>\n",
       "      <th>playedCount</th>\n",
       "    </tr>\n",
       "  </thead>\n",
       "  <tbody>\n",
       "    <tr>\n",
       "      <th>0</th>\n",
       "      <td>シアワセ</td>\n",
       "      <td>aiko</td>\n",
       "      <td>405</td>\n",
       "    </tr>\n",
       "    <tr>\n",
       "      <th>1</th>\n",
       "      <td>恋のスーパーボール</td>\n",
       "      <td>aiko</td>\n",
       "      <td>373</td>\n",
       "    </tr>\n",
       "    <tr>\n",
       "      <th>2</th>\n",
       "      <td>夢見る隙間</td>\n",
       "      <td>aiko</td>\n",
       "      <td>346</td>\n",
       "    </tr>\n",
       "    <tr>\n",
       "      <th>3</th>\n",
       "      <td>花火</td>\n",
       "      <td>aiko</td>\n",
       "      <td>345</td>\n",
       "    </tr>\n",
       "    <tr>\n",
       "      <th>4</th>\n",
       "      <td>もっと</td>\n",
       "      <td>aiko</td>\n",
       "      <td>326</td>\n",
       "    </tr>\n",
       "    <tr>\n",
       "      <th>5</th>\n",
       "      <td>向かいあわせ</td>\n",
       "      <td>aiko</td>\n",
       "      <td>325</td>\n",
       "    </tr>\n",
       "    <tr>\n",
       "      <th>6</th>\n",
       "      <td>ストロー</td>\n",
       "      <td>aiko</td>\n",
       "      <td>313</td>\n",
       "    </tr>\n",
       "    <tr>\n",
       "      <th>7</th>\n",
       "      <td>かばん</td>\n",
       "      <td>aiko</td>\n",
       "      <td>301</td>\n",
       "    </tr>\n",
       "    <tr>\n",
       "      <th>8</th>\n",
       "      <td>Loveletter</td>\n",
       "      <td>aiko</td>\n",
       "      <td>298</td>\n",
       "    </tr>\n",
       "    <tr>\n",
       "      <th>9</th>\n",
       "      <td>蝶々結び</td>\n",
       "      <td>aiko</td>\n",
       "      <td>292</td>\n",
       "    </tr>\n",
       "  </tbody>\n",
       "</table>\n",
       "</div>"
      ],
      "text/plain": [
       "         name artist  playedCount\n",
       "0        シアワセ   aiko          405\n",
       "1   恋のスーパーボール   aiko          373\n",
       "2       夢見る隙間   aiko          346\n",
       "3          花火   aiko          345\n",
       "4         もっと   aiko          326\n",
       "5      向かいあわせ   aiko          325\n",
       "6        ストロー   aiko          313\n",
       "7         かばん   aiko          301\n",
       "8  Loveletter   aiko          298\n",
       "9        蝶々結び   aiko          292"
      ]
     },
     "execution_count": 61,
     "metadata": {},
     "output_type": "execute_result"
    }
   ],
   "source": [
    "df.groupby('name') \\\n",
    "    .apply(lambda df: pd.Series([df.albumArtist.iloc[0], sum(df.playedCount)], index=['artist', 'playedCount'])) \\\n",
    "    .sort_values('playedCount', ascending=False) \\\n",
    "    .head(10) \\\n",
    "    .reset_index()"
   ]
  },
  {
   "cell_type": "markdown",
   "metadata": {},
   "source": [
    "### アーティストごとの再生回数"
   ]
  },
  {
   "cell_type": "code",
   "execution_count": 62,
   "metadata": {},
   "outputs": [
    {
     "data": {
      "text/plain": [
       "<matplotlib.axes._subplots.AxesSubplot at 0x11c899198>"
      ]
     },
     "execution_count": 62,
     "metadata": {},
     "output_type": "execute_result"
    },
    {
     "data": {
      "image/png": "[encoded data removed]",
      "text/plain": [
       "<Figure size 432x288 with 1 Axes>"
      ]
     },
     "metadata": {
      "needs_background": "light"
     },
     "output_type": "display_data"
    }
   ],
   "source": [
    "df.groupby('artist')['playedCount'].sum() \\\n",
    "    .drop('') \\\n",
    "    .drop('VARIOUS ARTISTS') \\\n",
    "    .sort_values(ascending=True) \\\n",
    "    .tail(10) \\\n",
    "    .to_frame() \\\n",
    "    .plot(kind='barh')"
   ]
  },
  {
   "cell_type": "markdown",
   "metadata": {},
   "source": [
    "### 2019年アツかった楽曲"
   ]
  },
  {
   "cell_type": "code",
   "execution_count": 64,
   "metadata": {},
   "outputs": [
    {
     "data": {
      "text/plain": [
       "<matplotlib.axes._subplots.AxesSubplot at 0x11c977390>"
      ]
     },
     "execution_count": 64,
     "metadata": {},
     "output_type": "execute_result"
    },
    {
     "data": {
      "image/png": "[encoded data removed]",
      "text/plain": [
       "<Figure size 432x288 with 1 Axes>"
      ]
     },
     "metadata": {
      "needs_background": "light"
     },
     "output_type": "display_data"
    }
   ],
   "source": [
    "df[df.dateAdded > '2019'] \\\n",
    "    .groupby('albumArtist')['playedCount'].sum() \\\n",
    "    .sort_values(ascending=True) \\\n",
    "    .tail(10) \\\n",
    "    .to_frame() \\\n",
    "    .plot(kind='barh')"
   ]
  },
  {
   "cell_type": "markdown",
   "metadata": {},
   "source": [
    "### 特定アーティストのみ抽出\n",
    "- aikoのアルバム再生数で集計"
   ]
  },
  {
   "cell_type": "code",
   "execution_count": 6,
   "metadata": {},
   "outputs": [
    {
     "data": {
      "text/plain": [
       "<matplotlib.axes._subplots.AxesSubplot at 0x10e312898>"
      ]
     },
     "execution_count": 6,
     "metadata": {},
     "output_type": "execute_result"
    },
    {
     "data": {
      "image/png": "[encoded data removed]",
      "text/plain": [
       "<Figure size 432x288 with 1 Axes>"
      ]
     },
     "metadata": {
      "needs_background": "light"
     },
     "output_type": "display_data"
    }
   ],
   "source": [
    "df[df.albumArtist == \"aiko\"] \\\n",
    "    .groupby('album')['playedCount'].sum() \\\n",
    "    .sort_values(ascending=True) \\\n",
    "    .plot(kind='barh')"
   ]
  },
  {
   "cell_type": "code",
   "execution_count": null,
   "metadata": {},
   "outputs": [],
   "source": []
  }
 ],
 "metadata": {
  "kernelspec": {
   "display_name": "Python 3",
   "language": "python",
   "name": "python3"
  },
  "language_info": {
   "codemirror_mode": {
    "name": "ipython",
    "version": 3
   },
   "file_extension": ".py",
   "mimetype": "text/x-python",
   "name": "python",
   "nbconvert_exporter": "python",
   "pygments_lexer": "ipython3",
   "version": "3.6.4"
  }
 },
 "nbformat": 4,
 "nbformat_minor": 2
}
