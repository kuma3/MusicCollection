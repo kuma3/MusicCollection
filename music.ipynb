{
 "cells": [
  {
   "cell_type": "markdown",
   "metadata": {},
   "source": [
    "### 各種import"
   ]
  },
  {
   "cell_type": "code",
   "execution_count": 10,
   "metadata": {},
   "outputs": [],
   "source": [
    "import matplotlib as mpl\n",
    "import matplotlib.pyplot as plt\n",
    "import pandas as pd\n",
    "from matplotlib import rcParams\n",
    "\n",
    "rcParams['font.family'] = 'sans-serif'\n",
    "rcParams['font.sans-serif'] = ['Hiragino Maru Gothic Pro', 'Yu Gothic', 'Meirio', 'Takao', 'IPAexGothic', 'IPAPGothic', 'VL PGothic', 'Noto Sans CJK JP']"
   ]
  },
  {
   "cell_type": "markdown",
   "metadata": {},
   "source": [
    "### 楽曲データを読み込む\n",
    "- あらかじめ取り出しておいた楽曲データを`tracks.json`として保存しておき，データフレームとして読み込む"
   ]
  },
  {
   "cell_type": "code",
   "execution_count": 3,
   "metadata": {},
   "outputs": [
    {
     "data": {
      "text/html": [
       "<div>\n",
       "<style scoped>\n",
       "    .dataframe tbody tr th:only-of-type {\n",
       "        vertical-align: middle;\n",
       "    }\n",
       "\n",
       "    .dataframe tbody tr th {\n",
       "        vertical-align: top;\n",
       "    }\n",
       "\n",
       "    .dataframe thead th {\n",
       "        text-align: right;\n",
       "    }\n",
       "</style>\n",
       "<table border=\"1\" class=\"dataframe\">\n",
       "  <thead>\n",
       "    <tr style=\"text-align: right;\">\n",
       "      <th></th>\n",
       "      <th>class</th>\n",
       "      <th>index</th>\n",
       "      <th>name</th>\n",
       "      <th>persistentID</th>\n",
       "      <th>databaseID</th>\n",
       "      <th>dateAdded</th>\n",
       "      <th>time</th>\n",
       "      <th>duration</th>\n",
       "      <th>artist</th>\n",
       "      <th>albumArtist</th>\n",
       "      <th>...</th>\n",
       "      <th>albumDisliked</th>\n",
       "      <th>cloudStatus</th>\n",
       "      <th>work</th>\n",
       "      <th>movement</th>\n",
       "      <th>movementNumber</th>\n",
       "      <th>movementCount</th>\n",
       "      <th>location</th>\n",
       "      <th>purchaserName</th>\n",
       "      <th>purchaserAppleID</th>\n",
       "      <th>releaseDate</th>\n",
       "    </tr>\n",
       "    <tr>\n",
       "      <th>id</th>\n",
       "      <th></th>\n",
       "      <th></th>\n",
       "      <th></th>\n",
       "      <th></th>\n",
       "      <th></th>\n",
       "      <th></th>\n",
       "      <th></th>\n",
       "      <th></th>\n",
       "      <th></th>\n",
       "      <th></th>\n",
       "      <th></th>\n",
       "      <th></th>\n",
       "      <th></th>\n",
       "      <th></th>\n",
       "      <th></th>\n",
       "      <th></th>\n",
       "      <th></th>\n",
       "      <th></th>\n",
       "      <th></th>\n",
       "      <th></th>\n",
       "      <th></th>\n",
       "    </tr>\n",
       "  </thead>\n",
       "  <tbody>\n",
       "    <tr>\n",
       "      <th>32693</th>\n",
       "      <td>fileTrack</td>\n",
       "      <td>152</td>\n",
       "      <td>だから</td>\n",
       "      <td>58B59A4BE6FDF2C1</td>\n",
       "      <td>15407</td>\n",
       "      <td>2018-06-05T11:51:31.000Z</td>\n",
       "      <td>4:49</td>\n",
       "      <td>289.265991</td>\n",
       "      <td>aiko</td>\n",
       "      <td>aiko</td>\n",
       "      <td>...</td>\n",
       "      <td>False</td>\n",
       "      <td>uploaded</td>\n",
       "      <td></td>\n",
       "      <td></td>\n",
       "      <td>0</td>\n",
       "      <td>0</td>\n",
       "      <td>{}</td>\n",
       "      <td>NaN</td>\n",
       "      <td>NaN</td>\n",
       "      <td>NaN</td>\n",
       "    </tr>\n",
       "    <tr>\n",
       "      <th>29378</th>\n",
       "      <td>fileTrack</td>\n",
       "      <td>2454</td>\n",
       "      <td>ラハイナ (mahalo version)</td>\n",
       "      <td>C21A2C71EB4EBF8B</td>\n",
       "      <td>5644</td>\n",
       "      <td>2014-07-21T02:28:07.000Z</td>\n",
       "      <td>3:48</td>\n",
       "      <td>228.701996</td>\n",
       "      <td>DEPAPEPE</td>\n",
       "      <td></td>\n",
       "      <td>...</td>\n",
       "      <td>False</td>\n",
       "      <td>matched</td>\n",
       "      <td></td>\n",
       "      <td></td>\n",
       "      <td>0</td>\n",
       "      <td>0</td>\n",
       "      <td>NaN</td>\n",
       "      <td>NaN</td>\n",
       "      <td>NaN</td>\n",
       "      <td>NaN</td>\n",
       "    </tr>\n",
       "    <tr>\n",
       "      <th>29006</th>\n",
       "      <td>fileTrack</td>\n",
       "      <td>1798</td>\n",
       "      <td>いい日旅立ち</td>\n",
       "      <td>E3CFFA5A60E26745</td>\n",
       "      <td>4528</td>\n",
       "      <td>2014-06-09T12:12:19.000Z</td>\n",
       "      <td>4:44</td>\n",
       "      <td>284.786011</td>\n",
       "      <td>徳永英明</td>\n",
       "      <td></td>\n",
       "      <td>...</td>\n",
       "      <td>False</td>\n",
       "      <td>uploaded</td>\n",
       "      <td></td>\n",
       "      <td></td>\n",
       "      <td>0</td>\n",
       "      <td>0</td>\n",
       "      <td>{}</td>\n",
       "      <td>NaN</td>\n",
       "      <td>NaN</td>\n",
       "      <td>NaN</td>\n",
       "    </tr>\n",
       "    <tr>\n",
       "      <th>30469</th>\n",
       "      <td>fileTrack</td>\n",
       "      <td>175</td>\n",
       "      <td>赤いランプ</td>\n",
       "      <td>5305D3FB03DCDBB2</td>\n",
       "      <td>8912</td>\n",
       "      <td>2015-06-28T07:49:22.000Z</td>\n",
       "      <td>6:18</td>\n",
       "      <td>378.600006</td>\n",
       "      <td>aiko</td>\n",
       "      <td>aiko</td>\n",
       "      <td>...</td>\n",
       "      <td>True</td>\n",
       "      <td>uploaded</td>\n",
       "      <td></td>\n",
       "      <td></td>\n",
       "      <td>0</td>\n",
       "      <td>0</td>\n",
       "      <td>{}</td>\n",
       "      <td>NaN</td>\n",
       "      <td>NaN</td>\n",
       "      <td>NaN</td>\n",
       "    </tr>\n",
       "    <tr>\n",
       "      <th>31554</th>\n",
       "      <td>sharedTrack</td>\n",
       "      <td>2073</td>\n",
       "      <td>dance floor</td>\n",
       "      <td>1DE5581CFD5B1E7C</td>\n",
       "      <td>11993</td>\n",
       "      <td>2016-09-08T06:38:28.000Z</td>\n",
       "      <td>3:21</td>\n",
       "      <td>201.225998</td>\n",
       "      <td>Shiggy Jr.</td>\n",
       "      <td></td>\n",
       "      <td>...</td>\n",
       "      <td>False</td>\n",
       "      <td>matched</td>\n",
       "      <td></td>\n",
       "      <td></td>\n",
       "      <td>0</td>\n",
       "      <td>0</td>\n",
       "      <td>NaN</td>\n",
       "      <td>NaN</td>\n",
       "      <td>NaN</td>\n",
       "      <td>NaN</td>\n",
       "    </tr>\n",
       "  </tbody>\n",
       "</table>\n",
       "<p>5 rows × 64 columns</p>\n",
       "</div>"
      ],
      "text/plain": [
       "             class  index                   name      persistentID  \\\n",
       "id                                                                   \n",
       "32693    fileTrack    152                    だから  58B59A4BE6FDF2C1   \n",
       "29378    fileTrack   2454  ラハイナ (mahalo version)  C21A2C71EB4EBF8B   \n",
       "29006    fileTrack   1798                 いい日旅立ち  E3CFFA5A60E26745   \n",
       "30469    fileTrack    175                  赤いランプ  5305D3FB03DCDBB2   \n",
       "31554  sharedTrack   2073            dance floor  1DE5581CFD5B1E7C   \n",
       "\n",
       "       databaseID                 dateAdded  time    duration      artist  \\\n",
       "id                                                                          \n",
       "32693       15407  2018-06-05T11:51:31.000Z  4:49  289.265991        aiko   \n",
       "29378        5644  2014-07-21T02:28:07.000Z  3:48  228.701996    DEPAPEPE   \n",
       "29006        4528  2014-06-09T12:12:19.000Z  4:44  284.786011        徳永英明   \n",
       "30469        8912  2015-06-28T07:49:22.000Z  6:18  378.600006        aiko   \n",
       "31554       11993  2016-09-08T06:38:28.000Z  3:21  201.225998  Shiggy Jr.   \n",
       "\n",
       "      albumArtist  ... albumDisliked cloudStatus work  movement  \\\n",
       "id                 ...                                            \n",
       "32693        aiko  ...         False    uploaded                  \n",
       "29378              ...         False     matched                  \n",
       "29006              ...         False    uploaded                  \n",
       "30469        aiko  ...          True    uploaded                  \n",
       "31554              ...         False     matched                  \n",
       "\n",
       "       movementNumber  movementCount  location  purchaserName  \\\n",
       "id                                                              \n",
       "32693               0              0        {}            NaN   \n",
       "29378               0              0       NaN            NaN   \n",
       "29006               0              0        {}            NaN   \n",
       "30469               0              0        {}            NaN   \n",
       "31554               0              0       NaN            NaN   \n",
       "\n",
       "       purchaserAppleID  releaseDate  \n",
       "id                                    \n",
       "32693               NaN          NaN  \n",
       "29378               NaN          NaN  \n",
       "29006               NaN          NaN  \n",
       "30469               NaN          NaN  \n",
       "31554               NaN          NaN  \n",
       "\n",
       "[5 rows x 64 columns]"
      ]
     },
     "execution_count": 3,
     "metadata": {},
     "output_type": "execute_result"
    }
   ],
   "source": [
    "with open('tracks.json', 'r') as f:\n",
    "    df = pd.read_json(f).set_index('id')\n",
    "\n",
    "df.sample(5)"
   ]
  },
  {
   "cell_type": "markdown",
   "metadata": {},
   "source": [
    "### 楽曲ごとにランキング\n",
    "- 楽曲名でグルーピングを行い再生回数を集計"
   ]
  },
  {
   "cell_type": "code",
   "execution_count": 61,
   "metadata": {},
   "outputs": [
    {
     "data": {
      "text/html": [
       "<div>\n",
       "<style scoped>\n",
       "    .dataframe tbody tr th:only-of-type {\n",
       "        vertical-align: middle;\n",
       "    }\n",
       "\n",
       "    .dataframe tbody tr th {\n",
       "        vertical-align: top;\n",
       "    }\n",
       "\n",
       "    .dataframe thead th {\n",
       "        text-align: right;\n",
       "    }\n",
       "</style>\n",
       "<table border=\"1\" class=\"dataframe\">\n",
       "  <thead>\n",
       "    <tr style=\"text-align: right;\">\n",
       "      <th></th>\n",
       "      <th>name</th>\n",
       "      <th>artist</th>\n",
       "      <th>playedCount</th>\n",
       "    </tr>\n",
       "  </thead>\n",
       "  <tbody>\n",
       "    <tr>\n",
       "      <th>0</th>\n",
       "      <td>シアワセ</td>\n",
       "      <td>aiko</td>\n",
       "      <td>405</td>\n",
       "    </tr>\n",
       "    <tr>\n",
       "      <th>1</th>\n",
       "      <td>恋のスーパーボール</td>\n",
       "      <td>aiko</td>\n",
       "      <td>373</td>\n",
       "    </tr>\n",
       "    <tr>\n",
       "      <th>2</th>\n",
       "      <td>夢見る隙間</td>\n",
       "      <td>aiko</td>\n",
       "      <td>346</td>\n",
       "    </tr>\n",
       "    <tr>\n",
       "      <th>3</th>\n",
       "      <td>花火</td>\n",
       "      <td>aiko</td>\n",
       "      <td>345</td>\n",
       "    </tr>\n",
       "    <tr>\n",
       "      <th>4</th>\n",
       "      <td>もっと</td>\n",
       "      <td>aiko</td>\n",
       "      <td>326</td>\n",
       "    </tr>\n",
       "    <tr>\n",
       "      <th>5</th>\n",
       "      <td>向かいあわせ</td>\n",
       "      <td>aiko</td>\n",
       "      <td>325</td>\n",
       "    </tr>\n",
       "    <tr>\n",
       "      <th>6</th>\n",
       "      <td>ストロー</td>\n",
       "      <td>aiko</td>\n",
       "      <td>313</td>\n",
       "    </tr>\n",
       "    <tr>\n",
       "      <th>7</th>\n",
       "      <td>かばん</td>\n",
       "      <td>aiko</td>\n",
       "      <td>301</td>\n",
       "    </tr>\n",
       "    <tr>\n",
       "      <th>8</th>\n",
       "      <td>Loveletter</td>\n",
       "      <td>aiko</td>\n",
       "      <td>298</td>\n",
       "    </tr>\n",
       "    <tr>\n",
       "      <th>9</th>\n",
       "      <td>蝶々結び</td>\n",
       "      <td>aiko</td>\n",
       "      <td>292</td>\n",
       "    </tr>\n",
       "  </tbody>\n",
       "</table>\n",
       "</div>"
      ],
      "text/plain": [
       "         name artist  playedCount\n",
       "0        シアワセ   aiko          405\n",
       "1   恋のスーパーボール   aiko          373\n",
       "2       夢見る隙間   aiko          346\n",
       "3          花火   aiko          345\n",
       "4         もっと   aiko          326\n",
       "5      向かいあわせ   aiko          325\n",
       "6        ストロー   aiko          313\n",
       "7         かばん   aiko          301\n",
       "8  Loveletter   aiko          298\n",
       "9        蝶々結び   aiko          292"
      ]
     },
     "execution_count": 61,
     "metadata": {},
     "output_type": "execute_result"
    }
   ],
   "source": [
    "df.groupby('name') \\\n",
    "    .apply(lambda df: pd.Series([df.albumArtist.iloc[0], sum(df.playedCount)], index=['artist', 'playedCount'])) \\\n",
    "    .sort_values('playedCount', ascending=False) \\\n",
    "    .head(10) \\\n",
    "    .reset_index()"
   ]
  },
  {
   "cell_type": "markdown",
   "metadata": {},
   "source": [
    "### アーティストごとの再生回数"
   ]
  },
  {
   "cell_type": "code",
   "execution_count": 62,
   "metadata": {},
   "outputs": [
    {
     "data": {
      "text/plain": [
       "<matplotlib.axes._subplots.AxesSubplot at 0x11c899198>"
      ]
     },
     "execution_count": 62,
     "metadata": {},
     "output_type": "execute_result"
    },
    {
     "data": {
      "image/png": "[encoded data removed]",
      "text/plain": [
       "<Figure size 432x288 with 1 Axes>"
      ]
     },
     "metadata": {
      "needs_background": "light"
     },
     "output_type": "display_data"
    }
   ],
   "source": [
    "df.groupby('artist')['playedCount'].sum() \\\n",
    "    .drop('') \\\n",
    "    .drop('VARIOUS ARTISTS') \\\n",
    "    .sort_values(ascending=True) \\\n",
    "    .tail(10) \\\n",
    "    .to_frame() \\\n",
    "    .plot(kind='barh')"
   ]
  },
  {
   "cell_type": "markdown",
   "metadata": {},
   "source": [
    "### 2019年アツかった楽曲"
   ]
  },
  {
   "cell_type": "code",
   "execution_count": 64,
   "metadata": {},
   "outputs": [
    {
     "data": {
      "text/plain": [
       "<matplotlib.axes._subplots.AxesSubplot at 0x11c977390>"
      ]
     },
     "execution_count": 64,
     "metadata": {},
     "output_type": "execute_result"
    },
    {
     "data": {
      "image/png": "[encoded data removed]",
      "text/plain": [
       "<Figure size 432x288 with 1 Axes>"
      ]
     },
     "metadata": {
      "needs_background": "light"
     },
     "output_type": "display_data"
    }
   ],
   "source": [
    "df[df.dateAdded > '2019'] \\\n",
    "    .groupby('albumArtist')['playedCount'].sum() \\\n",
    "    .sort_values(ascending=True) \\\n",
    "    .tail(10) \\\n",
    "    .to_frame() \\\n",
    "    .plot(kind='barh')"
   ]
  },
  {
   "cell_type": "markdown",
   "metadata": {},
   "source": [
    "### 特定アーティストのみ抽出\n",
    "- aikoのアルバム再生数で集計"
   ]
  },
  {
   "cell_type": "code",
   "execution_count": 66,
   "metadata": {},
   "outputs": [
    {
     "data": {
      "text/plain": [
       "<matplotlib.axes._subplots.AxesSubplot at 0x11c6a43c8>"
      ]
     },
     "execution_count": 66,
     "metadata": {},
     "output_type": "execute_result"
    },
    {
     "data": {
      "image/png": "[encoded data removed]",
      "text/plain": [
       "<Figure size 432x288 with 1 Axes>"
      ]
     },
     "metadata": {
      "needs_background": "light"
     },
     "output_type": "display_data"
    }
   ],
   "source": [
    "df[df.albumArtist == \"aiko\"] \\\n",
    "    .groupby('album')['playedCount'].sum() \\\n",
    "    .sort_values(ascending=True) \\\n",
    "    .tail(10) \\\n",
    "    .plot(kind='barh')"
   ]
  },
  {
   "cell_type": "code",
   "execution_count": null,
   "metadata": {},
   "outputs": [],
   "source": []
  }
 ],
 "metadata": {
  "kernelspec": {
   "display_name": "Python 3",
   "language": "python",
   "name": "python3"
  },
  "language_info": {
   "codemirror_mode": {
    "name": "ipython",
    "version": 3
   },
   "file_extension": ".py",
   "mimetype": "text/x-python",
   "name": "python",
   "nbconvert_exporter": "python",
   "pygments_lexer": "ipython3",
   "version": "3.6.4"
  }
 },
 "nbformat": 4,
 "nbformat_minor": 2
}
